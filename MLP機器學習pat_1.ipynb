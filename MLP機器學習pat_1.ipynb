{
  "nbformat": 4,
  "nbformat_minor": 0,
  "metadata": {
    "colab": {
      "name": "MLP機器學習pat_1.ipynb",
      "provenance": [],
      "collapsed_sections": [
        "Bw-vZeCRirA_",
        "c80tX3m_dQlN",
        "Fx3PwCQXfJ2O"
      ],
      "toc_visible": true,
      "authorship_tag": "ABX9TyN9LkpPSb6ciD6nfJoIGfG7",
      "include_colab_link": true
    },
    "kernelspec": {
      "name": "python3",
      "display_name": "Python 3"
    },
    "language_info": {
      "name": "python"
    },
    "accelerator": "GPU"
  },
  "cells": [
    {
      "cell_type": "markdown",
      "metadata": {
        "id": "view-in-github",
        "colab_type": "text"
      },
      "source": [
        "<a href=\"https://colab.research.google.com/github/DennisRapheal/blockchain-voting-system/blob/main/MLP%E6%A9%9F%E5%99%A8%E5%AD%B8%E7%BF%92pat_1.ipynb\" target=\"_parent\"><img src=\"https://colab.research.google.com/assets/colab-badge.svg\" alt=\"Open In Colab\"/></a>"
      ]
    },
    {
      "cell_type": "code",
      "metadata": {
        "id": "t6FCb2uO7dBJ"
      },
      "source": [
        ""
      ],
      "execution_count": null,
      "outputs": []
    },
    {
      "cell_type": "markdown",
      "metadata": {
        "id": "GarzUzdy2d6N"
      },
      "source": [
        "# **Jupyter Notebook** **基本操作**\n",
        "Colab所有Python運作都是在Jupyter Notebook中運作\n",
        "\n",
        "---\n",
        "\n",
        "\n",
        "*   使用GPU模式：*-->編輯-->筆記本設定-->硬體加速器-->GPU-->儲存*\n",
        "*   連接虛擬機器：*-->連線*（如何開啟全新虛擬機：-->RAM-->管理工作階段-->終止-->重新連線）\n",
        "\n",
        "\n",
        "\n",
        "\n",
        "\n",
        "\n",
        "\n",
        "\n",
        "\n",
        "\n",
        "\n"
      ]
    },
    {
      "cell_type": "markdown",
      "metadata": {
        "id": "QgMmD2715r7J"
      },
      "source": [
        "# **如何執行命令提示字元**\n",
        "通常長成：\n",
        "\n",
        "```\n",
        "!（命令）\n",
        "```\n",
        "\n",
        "常用命令：\n",
        "*   `!pip3 install （＋模組）`：安裝模組\n",
        "*   `!pip3 list`：檢查已安裝模組\n",
        "*   `!pwd`：顯示目前目錄\n",
        "*   `!mkdir （＋目錄名稱）`：建立新目錄\n",
        "*   `!mv （＋欲移動的檔案名稱）（＋目的檔案名稱）`：移動檔案\n",
        "*   `!cp （＋欲移動的檔案名稱）（＋目的檔案名稱）`：複製檔案\n",
        "*   `!unzip（＋壓縮檔名）`：解壓縮\n",
        "*   `%cd（＋欲切換的目錄）`：切換目錄\n",
        "\n",
        "\n"
      ]
    },
    {
      "cell_type": "code",
      "metadata": {
        "id": "aOAiRigx3DQz"
      },
      "source": [
        "from keras.datasets import cifar10"
      ],
      "execution_count": null,
      "outputs": []
    },
    {
      "cell_type": "code",
      "metadata": {
        "id": "rUUa3d6HeIrx"
      },
      "source": [
        ""
      ],
      "execution_count": null,
      "outputs": []
    },
    {
      "cell_type": "markdown",
      "metadata": {
        "id": "Bw-vZeCRirA_"
      },
      "source": [
        "# **圖表製作**\n",
        "Matplotlib官方網址：（https://matplotlib.org/stable/gallery/index.html）\n",
        "\n",
        "中文介紹網址：（https://medium.com/%E6%95%B8%E6%93%9A%E4%B8%8D%E6%AD%A2-not-only-data/%E6%B7%B1%E5%85%A5%E6%B7%BA%E5%87%BA-python-%E8%A6%96%E8%A6%BA%E5%8C%96%E5%A5%97%E4%BB%B6-matplotlib-seaborn-%E6%A0%B8%E5%BF%83%E6%8C%87%E5%8D%97%E8%88%87%E7%B9%AA%E8%A3%BD-44a47458912）\n",
        "\n",
        "\n",
        "*  #程式碼#\n",
        "\n",
        "\n"
      ]
    },
    {
      "cell_type": "code",
      "metadata": {
        "colab": {
          "base_uri": "https://localhost:8080/",
          "height": 295
        },
        "id": "SrBM9iF7jTMI",
        "outputId": "b87b6ea6-175e-4061-b527-0bcf15d560f7"
      },
      "source": [
        "import matplotlib.pyplot as plt\n",
        "x = [1, 2, 3, 4, 5, 6, 7, 8]\n",
        "y = [1, 2, 1, 3, 5, 7, 2, 9]\n",
        "plt.plot(x,y,label=\"line L\")\n",
        "plt.plot()\n",
        "\n",
        "plt.xlabel(\"x\")\n",
        "plt.ylabel(\"y\")\n",
        "plt.title(\"graph_title\")\n",
        "plt.legend() #顯示「line L」的標注\n",
        "plt.show()\n"
      ],
      "execution_count": null,
      "outputs": [
        {
          "output_type": "display_data",
          "data": {
            "image/png": "[encoded data removed]",
            "text/plain": [
              "<Figure size 432x288 with 1 Axes>"
            ]
          },
          "metadata": {
            "tags": [],
            "needs_background": "light"
          }
        }
      ]
    },
    {
      "cell_type": "markdown",
      "metadata": {
        "id": "8bAZd7DweT0b"
      },
      "source": [
        "# ***如何讀取檔案***\n",
        "\n",
        "\n",
        "---\n",
        "\n",
        "\n",
        "\n",
        "讀取檔案程式如下，可以讀取雲端或裝置中的檔案\n",
        "\n",
        "```\n",
        "from google.colab import files\n",
        "uploaded = files.upload()\n",
        "```\n",
        "\n"
      ]
    },
    {
      "cell_type": "code",
      "metadata": {
        "id": "vUW4js5we6xA"
      },
      "source": [
        "from google.colab import files\n",
        "uploaded = files.upload()"
      ],
      "execution_count": null,
      "outputs": []
    },
    {
      "cell_type": "markdown",
      "metadata": {
        "id": "c80tX3m_dQlN"
      },
      "source": [
        "# ***MLP多層感知器***\n",
        "機器學習 lesson 1\n",
        "\n",
        "---\n",
        "\n",
        "* 如何下載 MNIST 資料集\n",
        "\n",
        "* 如何顯示訓練資料\n",
        "\n",
        "* #程式碼#\n",
        "\n",
        "\n",
        "\n"
      ]
    },
    {
      "cell_type": "code",
      "metadata": {
        "colab": {
          "base_uri": "https://localhost:8080/",
          "height": 459
        },
        "id": "Ou0stXVJf31H",
        "outputId": "fced37ba-f878-44f8-8e1e-b777eeeedb37"
      },
      "source": [
        "import numpy as np\n",
        "from keras.datasets import mnist\n",
        "\n",
        "#外匡製作：matplot\n",
        "#更多圖表製作：https://matplotlib.org/stable/gallery/index.html\n",
        "import matplotlib.pyplot as plt\n",
        "\n",
        "#＠＠下載mnist資料集\n",
        "(train_feature , train_label), \\\n",
        "(test_feature , test_label) = mnist.load_data()\n",
        "    \n",
        "#＠＠下載後讀入方法\n",
        "    #(train_feature , train_label)\n",
        "    #---> 訓練資料\n",
        "    #(test_feature , test_label)\n",
        "    #---> 測試資料\n",
        "(train_feature , train_label),(test_feature , test_label) = mnist.load_data()\n",
        "\n",
        "#＠＠如和取得資料資訊\n",
        "#print(len(train_feature), len(train_label)) \n",
        "    #---> len()查看資料長度\n",
        "#print(train_feature.shape , train_label.shape) \n",
        "    #---> 函式：「.shape」\n",
        "    #---> 取得(60000, 28, 28)(60000,)意即（六萬張28*28的訓練資料）（60000個標籤)\n",
        "\n",
        "#＠＠顯是訓練資料的圖片與值\n",
        "    #＠先：import matplotlib.pylot as plt\n",
        "\n",
        "def show_image(image):\n",
        "    fig = plt.gcf()\n",
        "    fig.set_size_inches(2, 2) \n",
        "    # ---> 設定圖片大小\n",
        "    plt.imshow(image, cmap='binary')\n",
        "    plt.show()\n",
        "\n",
        "show_image(train_feature[0])\n",
        "\n",
        "#＠＠查看多筆訓練資料\n",
        "    #方便觀測預測結果\n",
        "def show_images_labels_predictions(images ,labels ,predictions ,start_id , num=10 ):\n",
        "    plt.gcf().set_size_inches(12 ,14)\n",
        "    if (num>25) : \n",
        "        num=25\n",
        "    for i in range(num):\n",
        "        ax = plt.subplot(5, 5, i+1)\n",
        "        # ---> 顯示黑白圖片\n",
        "        ax.imshow(images[start_id], cmap = 'binary')\n",
        "        \n",
        "        # 有AI的預測結果，才會在標題顯示結果；沒有則顯示真實數據\n",
        "        if (len(predictions) > 0 ):\n",
        "            title = 'ai =' +str(predictions[start_id])\n",
        "            title += (' (o)' if predictions[start_id]\n",
        "                      == labels[start_id] else  ' (x)')\n",
        "            #---> 預測正確顯示(o)  預測錯誤顯示（x）\n",
        "            title += '\\nlabel = ' +str(labels[start_id])\n",
        "        else : \n",
        "            title = 'label = '+str(labels[start_id])\n",
        "        \n",
        "        ax.set_title(title ,fontsize=12)\n",
        "        ax.set_xticks([]);ax.set_yticks([])\n",
        "        # ---> plot 的 x , y 不顯示刻度\n",
        "        start_id+=1\n",
        "    plt.show()\n",
        "    \n",
        "show_images_labels_predictions(train_feature ,train_label ,[] ,0 ,10 )"
      ],
      "execution_count": null,
      "outputs": [
        {
          "output_type": "display_data",
          "data": {
            "image/png": "[encoded data removed]",
            "text/plain": [
              "<Figure size 144x144 with 1 Axes>"
            ]
          },
          "metadata": {
            "tags": [],
            "needs_background": "light"
          }
        },
        {
          "output_type": "display_data",
          "data": {
            "image/png": "[encoded data removed]",
            "text/plain": [
              "<Figure size 864x1008 with 10 Axes>"
            ]
          },
          "metadata": {
            "tags": []
          }
        }
      ]
    },
    {
      "cell_type": "markdown",
      "metadata": {
        "id": "aFK0tK9uhEF6"
      },
      "source": [
        ""
      ]
    },
    {
      "cell_type": "markdown",
      "metadata": {
        "id": "QU2PbQR3YFgZ"
      },
      "source": [
        "# **Feature 資料預處理**\n",
        "增加模型效率\n",
        "\n",
        "---\n",
        "\n",
        "\n",
        "\n",
        "*   轉成一維向量\n",
        "*   標準化\n",
        "\n",
        "# **Label 資料預處理**\n",
        "\n",
        "\n",
        "\n",
        "---\n",
        "\n",
        "\n",
        "*   One-Hot Encoding\n",
        "\n",
        "\n",
        "\n",
        "\n"
      ]
    },
    {
      "cell_type": "code",
      "metadata": {
        "id": "rKwllIm6Z-bz"
      },
      "source": [
        "# 2-11 資料預處理\n",
        "# mnist 輸入的是 28*28 的二維圖片\n",
        "# 轉換成 784 個 float 的一維向量\n",
        "# 標準化後才可當作輸入\n",
        "\n",
        "\n",
        "from keras.datasets import mnist\n",
        "from keras.utils import np_utils\n",
        "\n",
        "(train_feature , train_label), \\\n",
        "(test_feature , test_label) = mnist.load_data()\n",
        "\n",
        "#＠＠ 函式 \".reshape()\" 可以把圖片轉成 784個一維向量\n",
        "#＠＠ 函式 “.astype()” 可將數字串改成 float型別\n",
        "train_feature_vector = train_feature.reshape(len(train_feature),784).astype('float')\n",
        "test_feature_vector = test_feature.reshape(len(test_feature),784).astype('float')\n",
        "\n",
        "#檢查\n",
        "print(train_feature_vector.shape,test_feature_vector.shape)#---> 輸出（60000 ,784）（10000, 784）\n",
        "\n",
        "#＠＠ 標準化\n",
        "#＠將 0~255的數字，除以255得到 0~1 之間的float，稱為標準化（Normalize），可增加預測模型準確度以及訓練效率\n",
        "train_feature_normalize = train_feature_vector/255\n",
        "test_feature_normalize = test_feature_vector/255\n",
        "\n",
        "print(train_feature_normalize[0])\n",
        "\n",
        "print()\n",
        "#＠＠ One_Hot Encoding\n",
        "#只看和真實質相同的label，也就是把和真實值相同的label設為\"1\"，其他設為\"0\"\n",
        "#先 from keras.utils import np_utils 再用np_utils.to_categorical()\n",
        "print(train_label[0:5])\n",
        "\n",
        "train_label_onehot = np_utils.to_categorical(train_label)\n",
        "test_label_onehot = np_utils.to_categorical(test_label)\n",
        "#檢查\n",
        "print(train_label_onehot[0:5])\n",
        "print(test_label_onehot[0:5])\n"
      ],
      "execution_count": null,
      "outputs": []
    },
    {
      "cell_type": "markdown",
      "metadata": {
        "id": "JsJQyKIxfCAH"
      },
      "source": [
        ""
      ]
    },
    {
      "cell_type": "markdown",
      "metadata": {
        "id": "Fx3PwCQXfJ2O"
      },
      "source": [
        "# **建立MLP模型**\n",
        "# 包含前一章資料預處理 \n",
        "（下一章附有完整程式碼）\n",
        "\n",
        "---\n",
        "\n",
        "\n",
        "\n",
        "*   建立Sequencial模型\n",
        "\n",
        "```\n",
        "from keras.models import Sequential\n",
        "model = Sequential()\n",
        "```\n",
        "\n",
        "*   建立**輸入層和隱藏層**\n",
        "\n",
        "\n",
        "```\n",
        "# 以「.add」函式增加輸入層以及隱藏層\n",
        "#「Dence(參數1,參數2,參數3,參數4)」為上下緊密連接的神經網路層\n",
        "# 參數1「unit＝256」：代表隱藏層神經元數目有256個\n",
        "# 參數2「input_dim=784」：代表輸入層神經元數目有784個\n",
        "# 參數3「kernal_initializer='normal'」：代表使用常態分佈的亂數初始化權重（weight）和偏置（bias）\n",
        "# 參數4「activation='relu'」：制定激勵函式，'relu':大於零為identity function，小於 0 輸出 0\n",
        "\n",
        "from keras.layers import Dence\n",
        "model.add(Dence(units=256, input_dim=784, kernel_initializer='normal', activation='relu'))\n",
        "```\n",
        "\n",
        "\n",
        "\n",
        "*   建立**輸出層**\n",
        "\n",
        "\n",
        "```\n",
        "# 一樣適用「.add」和「Dense」\n",
        "# 因為神經元數和上一個隱藏層一樣，所以不用設定\n",
        "# Dence(參數1,參數2,參數3,參數4)\n",
        "# 參數1「unit=10」：因為只有可能0~9\n",
        "# 參數4「activation='softmax'」'softmax'把數據轉換成機率分布\n",
        "\n",
        "model.add(Dense(units=10,,kernel_initializer='normal', activation='softmax'))\n",
        "```\n",
        "\n",
        "\n",
        "\n",
        "# **訓練模型**\n",
        "\n",
        "包含訓練模型以及預估模型\n",
        "---\n",
        "* 訓練方式\n",
        "\n",
        "```\n",
        "# 以「.compile(參數1,參數2,參數3)」來定義以下訓練模型\n",
        "# 參數1「loss='categorical_crossentropy'」：定義Loss function，設為categorical_crossentropy\n",
        "# 參數2「optimizer='adam'」：定義Optimizer（最佳化方法）為\"adam\"\n",
        "# 參數3「metrics=['accuracy']」：定義metrics（評估準確率的方法）為\"accuracy\"準確率\n",
        "\n",
        "```\n",
        "# **進行訓練**\n",
        "\n",
        "fit的方法可以進行學習，訓練時必須設定「訓練資料」和「標籤」\n",
        "\n",
        "```\n",
        "model.fit(x=特徵法 ,y=標籤 ,validation_split = 驗證資料百分比 ,epochs=訓練資料 ,batch_size=每批次有多少筆)\n",
        "# x,y：設定訓練特徵值和標籤，兩個參數都是必須的\n",
        "# validation_split：例如0.2表示將訓練資料保留20%當作驗證資料。若省略則全部保留\n",
        "# epochs：訓練次數。若省略則訓練一次\n",
        "# verbose：設定是否顯示訓練過程（0不顯示、1詳細顯示、2簡易顯示）\n",
        "train_history = model.fit(x=train_feature_normalize, y=train_label_onehot, validation_split=0.2, epochs=10, batch_size=200, verbose=2)\n",
        "```\n",
        "\n",
        "**例如**：以（train_feature_normalize, train_label_onehot）為訓練特徵值和標籤，訓練資料保留20%作為驗證資料；也就是說mnist的60000筆資料內有60000 * 0.8 = 48000做為訓練資料、12000筆做為驗證資料。總共訓練10次，每次批次讀取200筆資料，並顯示簡易的訓練過程。\n",
        "\n",
        "**loss : **訓練資料的損失函數誤差值\n",
        "**acc : **訓練資料的評估準確率\n",
        "**val_loss : **驗證資料的損失函數誤差值\n",
        "**val_acc : **訓練資料的評估準確率\n",
        "\n",
        "#**評估準確率**\n",
        "evaluate 方法可以評估模型的損失函式誤差值和準確率，他會回傳串列，第0個元素為損失函式誤差值,第1個元素為準確率。\n",
        "\n",
        "```\n",
        "#使用測試資料評估模型準確率。\n",
        "scores = model.evaluate(test_feature_normalize, test_label_onehot)\n",
        "print(\"\\n 準確率 = ', scores[1])\n",
        "```\n",
        "\n",
        "#**進行預測**\n",
        "訓練好的模型,就可以用predict_classes 方法進行預測,本例是以測試資料將其特徵值標準化後的 test_feature_normalize 作預測。\n",
        "\n",
        "```\n",
        "prediction=model.predict_classes(test_feature_normalize)\n",
        "```\n",
        "以下是顯示訓練好的模型對MNIST 資料集前10 筆預測的結果。\n",
        "```\n",
        "show_images_labels_predictions(test_feature, test_label, prediction, 0)\n",
        "#辨識成功率相當高\n",
        "```\n",
        "\n",
        "\n"
      ]
    },
    {
      "cell_type": "code",
      "metadata": {
        "id": "r8LxV7oVxLXt"
      },
      "source": [
        "\n",
        "from keras.models import Sequential\n",
        "from keras.layers import Dense\n",
        "\n",
        "model = Sequential()\n",
        "model.add(Dense(units=256, input_dim=784, kernel_initializer='normal', activation='relu'))\n",
        "\n",
        "model.add(Dense(units=10,kernel_initializer='normal', activation='softmax'))\n",
        "\n",
        "model.compile(loss='categorical_crossentropy',optimizer='adam',metrics=['accuracy'])\n",
        "\n",
        "train_history = model.fit(x=train_feature_normalize, y=train_label_onehot, validation_split=0.2, epochs=10, batch_size=200, verbose=2)\n",
        "#實際執行結果請見最終程式碼\n",
        "\n",
        "scores = model.evaluate(test_feature_normalize, test_label_onehot)\n",
        "print('\\n 準確率 = ', scores[1])\n",
        "\n",
        "prediction=model.predict_classes(test_feature_normalize)\n",
        "\n",
        "show_images_labels_predictions(test_feature, test_label, prediction, 0)"
      ],
      "execution_count": null,
      "outputs": []
    },
    {
      "cell_type": "markdown",
      "metadata": {
        "id": "QTVhpIghhloR"
      },
      "source": [
        "[連結文字](https:// [連結文字](https://))# ***Overfitting*** \n",
        "\n",
        "\n",
        "---\n",
        "\n",
        "\n",
        "也就是過度符合訓練資料，造成訓練時準確度增加，但 val_acc 的準確度卻沒有增加\n",
        "\n",
        "***解決辦法：***\n",
        "\n",
        "ization\n",
        "*   清單項目\n",
        "\n",
        "\n",
        "\n",
        "\n"
      ]
    },
    {
      "cell_type": "markdown",
      "metadata": {
        "id": "yIyWAEWEbUvM"
      },
      "source": [
        "# **最終程式碼**"
      ]
    },
    {
      "cell_type": "code",
      "metadata": {
        "colab": {
          "base_uri": "https://localhost:8080/",
          "height": 800
        },
        "id": "08jC5I23bYXh",
        "outputId": "605b2f6d-88b8-4b7c-8dd2-db8601de53e0"
      },
      "source": [
        "import numpy as np\n",
        "from keras.datasets import mnist\n",
        "from keras.utils import np_utils\n",
        "np.random.seed(10)\n",
        "from keras.models import Sequential\n",
        "import matplotlib.pyplot as plt\n",
        "from keras.layers import Dense\n",
        "\n",
        "\n",
        "#外匡製作：matplot\n",
        "#更多圖表製作：https://matplotlib.org/stable/gallery/index.html\n",
        "import matplotlib.pyplot as plt\n",
        "\n",
        "#＠＠下載後讀入方法\n",
        "    #(train_feature , train_label)\n",
        "    #---> 訓練資料\n",
        "    #(test_feature , test_label)\n",
        "    #---> 測試資料\n",
        "(train_feature , train_label),(test_feature , test_label) = mnist.load_data()\n",
        "\n",
        "#＠＠查看多筆訓練資料\n",
        "    #方便觀測預測結果\n",
        "def show_images_labels_predictions(images ,labels ,predictions ,start_id , num=10 ):\n",
        "    plt.gcf().set_size_inches(12 ,14)\n",
        "    if (num>25) : \n",
        "        num=25\n",
        "    for i in range(num):\n",
        "        ax = plt.subplot(5, 5, i+1)\n",
        "       # ---> 顯示黑白圖片\n",
        "        ax.imshow(images[start_id], cmap = 'binary')\n",
        "        \n",
        "        # 有AI的預測結果，才會在標題顯示結果；沒有則顯示真實數據\n",
        "        if  (len(predictions) > 0 ):\n",
        "          title = 'ai =' +str(predictions[start_id])\n",
        "          title += (' (o)' if predictions[start_id] == labels[start_id] else  ' (x)')\n",
        "            #---> 預測正確顯示(o)  預測錯誤顯示（x）\n",
        "          title += '\\nlabel = ' +str(labels[start_id])\n",
        "        else : \n",
        "          title = 'label = '+str(labels[start_id])\n",
        "        \n",
        "        ax.set_title(title ,fontsize=12)\n",
        "        ax.set_xticks([]);ax.set_yticks([])\n",
        "        # ---> plot 的 x , y 不顯示刻度\n",
        "        start_id+=1\n",
        "    plt.show()\n",
        "    \n",
        "#show_images_labels_predictions(train_feature ,train_label ,[] ,0 ,10 )\n",
        "\n",
        "\n",
        "##資料預處理##\n",
        "#＠＠ 函式 \".reshape()\" 可以把圖片轉成 784個一維向量\n",
        "#＠＠ 函式 “.astype()” 可將數字串改成 float型別\n",
        "train_feature_vector = train_feature.reshape(len(train_feature),784).astype('float')\n",
        "test_feature_vector = test_feature.reshape(len(test_feature),784).astype('float')\n",
        "\n",
        "#檢查\n",
        "#print(train_feature_vector.shape,test_feature_vector.shape)#---> 輸出（60000 ,784）（10000, 784）\n",
        "\n",
        "#＠＠ 標準化\n",
        "#＠將 0~255的數字，除以255得到 0~1 之間的float，稱為標準化（Normalize），可增加預測模型準確度以及訓練效率\n",
        "train_feature_normalize = train_feature_vector/255\n",
        "test_feature_normalize = test_feature_vector/255\n",
        "\n",
        "#print(train_feature_normalize[0])\n",
        "\n",
        "#＠＠ One_Hot Encoding\n",
        "#只看和真實質相同的label，也就是把和真實值相同的label設為\"1\"，其他設為\"0\"\n",
        "#先 from keras.utils import np_utils 再用np_utils.to_categorical()\n",
        "#print(train_label[0:5])\n",
        "train_label_onehot = np_utils.to_categorical(train_label)\n",
        "test_label_onehot = np_utils.to_categorical(test_label)\n",
        "#檢查\n",
        "#print(train_label_onehot[0:5])\n",
        "#print(test_label_onehot[0:5])\n",
        "\n",
        "model = Sequential()\n",
        "\n",
        "model.add(Dense(units=256, input_dim=784, kernel_initializer='normal', activation='relu'))\n",
        "\n",
        "model.add(Dense(units=10,kernel_initializer='normal', activation='softmax'))\n",
        "\n",
        "model.compile(loss='categorical_crossentropy',optimizer='adam',metrics=['accuracy'])\n",
        "\n",
        "train_history = model.fit(x=train_feature_normalize, y=train_label_onehot, validation_split=0.2, epochs=10, batch_size=200, verbose=2)\n",
        "\n",
        "#@@評估準確率\n",
        "scores = model.evaluate(test_feature_normalize, test_label_onehot)\n",
        "#print('\\n 準確率 = ', scores[1])\n",
        "\n",
        "#@@進行預測\n",
        "##使用前記得解禁\" def_show_images_labels_predictions \"\"\n",
        "prediction = model.predict_classes(test_feature_normalize)\n",
        "show_images_labels_predictions(test_feature, test_label, prediction, 0)\n",
        "\n",
        "#@@儲存模型\n",
        "model.save('Mnist_mlp_model.h5')"
      ],
      "execution_count": null,
      "outputs": [
        {
          "output_type": "stream",
          "text": [
            "Downloading data from https://storage.googleapis.com/tensorflow/tf-keras-datasets/mnist.npz\n",
            "11493376/11490434 [==============================] - 0s 0us/step\n",
            "11501568/11490434 [==============================] - 0s 0us/step\n",
            "Epoch 1/10\n",
            "240/240 - 14s - loss: 0.4381 - accuracy: 0.8816 - val_loss: 0.2236 - val_accuracy: 0.9380\n",
            "Epoch 2/10\n",
            "240/240 - 0s - loss: 0.1932 - accuracy: 0.9450 - val_loss: 0.1630 - val_accuracy: 0.9530\n",
            "Epoch 3/10\n",
            "240/240 - 1s - loss: 0.1376 - accuracy: 0.9613 - val_loss: 0.1309 - val_accuracy: 0.9629\n",
            "Epoch 4/10\n",
            "240/240 - 1s - loss: 0.1062 - accuracy: 0.9693 - val_loss: 0.1149 - val_accuracy: 0.9652\n",
            "Epoch 5/10\n",
            "240/240 - 1s - loss: 0.0835 - accuracy: 0.9766 - val_loss: 0.1022 - val_accuracy: 0.9682\n",
            "Epoch 6/10\n",
            "240/240 - 1s - loss: 0.0681 - accuracy: 0.9810 - val_loss: 0.0930 - val_accuracy: 0.9718\n",
            "Epoch 7/10\n",
            "240/240 - 1s - loss: 0.0556 - accuracy: 0.9845 - val_loss: 0.0887 - val_accuracy: 0.9726\n",
            "Epoch 8/10\n",
            "240/240 - 0s - loss: 0.0468 - accuracy: 0.9873 - val_loss: 0.0833 - val_accuracy: 0.9734\n",
            "Epoch 9/10\n",
            "240/240 - 1s - loss: 0.0388 - accuracy: 0.9897 - val_loss: 0.0820 - val_accuracy: 0.9744\n",
            "Epoch 10/10\n",
            "240/240 - 0s - loss: 0.0321 - accuracy: 0.9920 - val_loss: 0.0801 - val_accuracy: 0.9761\n",
            "313/313 [==============================] - 1s 2ms/step - loss: 0.0707 - accuracy: 0.9775\n"
          ],
          "name": "stdout"
        },
        {
          "output_type": "stream",
          "text": [
            "/usr/local/lib/python3.7/dist-packages/keras/engine/sequential.py:450: UserWarning: `model.predict_classes()` is deprecated and will be removed after 2021-01-01. Please use instead:* `np.argmax(model.predict(x), axis=-1)`,   if your model does multi-class classification   (e.g. if it uses a `softmax` last-layer activation).* `(model.predict(x) > 0.5).astype(\"int32\")`,   if your model does binary classification   (e.g. if it uses a `sigmoid` last-layer activation).\n",
            "  warnings.warn('`model.predict_classes()` is deprecated and '\n"
          ],
          "name": "stderr"
        },
        {
          "output_type": "display_data",
          "data": {
            "image/png": "[encoded data removed]",
            "text/plain": [
              "<Figure size 864x1008 with 10 Axes>"
            ]
          },
          "metadata": {
            "tags": []
          }
        }
      ]
    },
    {
      "cell_type": "markdown",
      "metadata": {
        "id": "w8uQ_VbDHjA0"
      },
      "source": [
        "# **模型儲存和載入**\n",
        "儲存訓練模型\n",
        "\n",
        "---\n",
        "\n",
        "**模型儲存**\n",
        "\n",
        "Keras 使用HDF5 檔案系統來儲存模型，模型儲存一般使用.h5 為副檔名，語法：\n",
        "```\n",
        "model.save('檔名')\n",
        "# 例如將模型存為<'Mnist_mlp_model.h5'>\n",
        "---> model.save('Mnist_mlp_model.h5')\n",
        "\n",
        "# 刪除模型\n",
        "del model\n",
        "```\n",
        "訓練的程式碼和訓練的程式碼和<Keras_Mnist_ML.py>相同,只列出儲存模型的程式碼。\n",
        "\n",
        "\n",
        "**載入模型**\n",
        "\n",
        "當訓練資料很龐大時，訓練一次可能需要很長的時間，這時就可以直接載入訓練好的模型作為預測，以減少重複訓練的時間。\n",
        "記得先以\n",
        "```\n",
        "from keras.models import load_model\n",
        "```\n",
        "匯入相關模組：\n",
        "\n",
        "Reference：https://blog.gtwang.org/programming/keras-save-and-load-model-tutorial/\n",
        "```\n",
        "load_model('檔名')\n",
        "load_model('Mnist_mlp_model.h5')\n",
        "```\n"
      ]
    },
    {
      "cell_type": "code",
      "metadata": {
        "id": "ewGvCpuSOx8x"
      },
      "source": [
        "import numpy as np\n",
        "from keras.datasets import mnist\n",
        "from keras.utils import np_utils\n",
        "np.random.seed(10)\n",
        "from keras.models import Sequential\n",
        "import matplotlib.pyplot as plt\n",
        "from keras.layers import Dense\n",
        "from keras.models import load_model\n",
        "\n",
        "# 建立訓練資料和測試資料，包括訓練特徵集、訓練標籤和測試特徵集、測試標籤\n",
        "(train_feature , train_label),\\\n",
        "(test_feature , test_label) = mnist.load_data()\n",
        "\n",
        "def show_images_labels_predictions(images, labels, predictions, start_id, num=10 ):\n",
        "    plt.gcf().set_size_inches(12 ,14)\n",
        "    if (num>25) : num=25\n",
        "    for i in range(0,num):\n",
        "        ax = plt.subplot(5, 5, i+1)\n",
        "       # ---> 顯示黑白圖片\n",
        "        ax.imshow(images[start_id], cmap = 'binary')\n",
        "       \n",
        "       # 有AI的預測結果，才會在標題顯示結果；沒有則顯示真實數據\n",
        "        if (len(predictions) > 0 ):\n",
        "            title = 'ai =' +str(predictions[start_id])\n",
        "            title += (' (o)' if predictions[start_id]\n",
        "                      == labels[start_id] else  ' (x)')\n",
        "            #---> 預測正確顯示(o)  預測錯誤顯示（x）\n",
        "            title += '\\nlabel = ' +str(labels[start_id])\n",
        "        else : \n",
        "            title = 'label = '+str(labels[start_id])\n",
        "        \n",
        "        ax.set_title(title ,fontsize=12)\n",
        "        ax.set_xticks([]);ax.set_yticks([])\n",
        "        # ---> plot 的 x , y 不顯示刻度\n",
        "        start_id+=1\n",
        "        \n",
        "    plt.show()\n",
        "\n",
        "# 將 Features 特徵值換為 784 個 float 數字的一維向量\n",
        "test_feature_vector = test_feature.reshape(len( test_feature),784).astype ('float32')\n",
        "\n",
        "\n",
        "# Features 特徵值標準化\n",
        "test_feature_normalize = test_feature_vector/255\n",
        "\n",
        " # 從 HDF5 檔案中載入模型\n",
        "print(\" 載入模型： Mnist_mlp_model.h5\") \n",
        "model = load_model('Mnist_mlp_model.h5')  \n",
        "\n",
        "\n",
        "# 預測\n",
        "prediction=model.predict_classes (test_feature_normalize) \n",
        "\n",
        "# 顯示圖像、預測值、真實值\n",
        "show_images_labels_predictions(test_feature, test_label, prediction, 0)\n"
      ],
      "execution_count": null,
      "outputs": []
    },
    {
      "cell_type": "markdown",
      "metadata": {
        "id": "WyehS5Fb4uzG"
      },
      "source": [
        "# ***Overfitting***\n",
        "\n",
        "\n",
        "---\n",
        "\n",
        "意即過度擬合，訓練時acc訓練的準確度提高，但val_acc驗證的準確度卻沒有增加。\n",
        "\n",
        "***解決方法：***\n",
        "\n",
        "\n",
        "\n",
        "*   DropOut\n",
        "\n",
        "\n",
        "> 加入適當的拋棄層可以解決overfitting的問題\n",
        "```\n",
        "＃先匯入模組\n",
        "from keras.layers import Dropout\n",
        "＃呼叫方法\n",
        "model.add(Dropout(放棄百分比))\n",
        "＃例：放棄50%\n",
        "model.add(Dropout(0.5))\n",
        "```\n",
        "DropOut通常會在隱藏層中加入，以提升準確度\n",
        "```\n",
        "＃建立模型\n",
        "model.Sequential()\n",
        "＃輸入層（加入激活函數）\n",
        "model.add(Dense(units=256, input_dim=784, kernel_initiaalizer='normal', activation='relu'))\n",
        "＃隱藏層１\n",
        "model.add(Dropout(0.2))\n",
        "＃隱藏層２\n",
        "model.add(Dense(units=128, kernel_initiaalizer='normal', activation='relu'))\n",
        "model.add(Dropout(0.2))\n",
        "＃輸出層\n",
        "model.add(Dense(units=10,kernel_initiaalizer='normal',activation='softmax'))\n",
        "```\n",
        "\n",
        "* Regularization\n",
        "\n",
        "\n"
      ]
    }
  ]
}